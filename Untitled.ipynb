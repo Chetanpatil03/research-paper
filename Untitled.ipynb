{
 "cells": [
  {
   "cell_type": "code",
   "execution_count": 1,
   "id": "5168cba2-b7fb-40b3-bc00-c1d61683691f",
   "metadata": {},
   "outputs": [
    {
     "name": "stdout",
     "output_type": "stream",
     "text": [
      "✅ Dataset Loaded Successfully!\n",
      "\n",
      "        name  age  gender      branch  attendance_percentage  current_cgpa  \\\n",
      "0  Student_1   22    Male          HR                   70.7          6.05   \n",
      "1  Student_2   20    Male          HR                   85.9          6.41   \n",
      "2  Student_3   22    Male  Management                   67.6          9.80   \n",
      "3  Student_4   21  Female       Other                   89.1          9.70   \n",
      "4  Student_5   22    Male         CSE                   75.6          9.11   \n",
      "\n",
      "   graduation_percentage   hsc   ssc  aptitude_score  communication_skills  \\\n",
      "0                   79.1  92.3  76.0              44                     4   \n",
      "1                   70.7  66.9  67.6              32                     9   \n",
      "2                   94.2  78.6  73.8              36                     4   \n",
      "3                   80.7  79.5  91.9              37                     6   \n",
      "4                   91.4  66.5  89.8              30                     7   \n",
      "\n",
      "   technical_skills domain internship certifications placement_status  \n",
      "0                 4     IT         No             10           Placed  \n",
      "1                 7     IT         No   More than 20           Placed  \n",
      "2                10  Other        Yes   More than 20           Placed  \n",
      "3                 4     IT         No             10       Not Placed  \n",
      "4                 9     IT         No             10           Placed  \n"
     ]
    }
   ],
   "source": [
    "# ============================================================\n",
    "# 🧾 Student Placement Prediction using ML Techniques\n",
    "# Author: Chetan Bachchhav\n",
    "# ============================================================\n",
    "\n",
    "# 1️⃣ Import Required Libraries\n",
    "import pandas as pd\n",
    "import numpy as np\n",
    "from sklearn.model_selection import train_test_split\n",
    "from sklearn.preprocessing import LabelEncoder, StandardScaler\n",
    "from sklearn.metrics import accuracy_score, classification_report\n",
    "from sklearn.linear_model import LogisticRegression\n",
    "from sklearn.tree import DecisionTreeClassifier\n",
    "from sklearn.ensemble import RandomForestClassifier\n",
    "from sklearn.svm import SVC\n",
    "from sklearn.neighbors import KNeighborsClassifier\n",
    "from sklearn.naive_bayes import GaussianNB\n",
    "\n",
    "# 2️⃣ Load Dataset\n",
    "df = pd.read_csv(\"student_placement_data.csv\")   # 👈 Upload your CSV file in Colab first\n",
    "print(\"✅ Dataset Loaded Successfully!\\n\")\n",
    "print(df.head())\n",
    "\n",
    "# 3️⃣ Drop Irrelevant Columns\n",
    "df = df.drop(columns=[\"name\"])"
   ]
  },
  {
   "cell_type": "code",
   "execution_count": 2,
   "id": "88cbfa83-eb1a-4c8d-b757-0017cbeb2c85",
   "metadata": {},
   "outputs": [],
   "source": [
    "# 4️⃣ Encode Categorical Columns\n",
    "cat_cols = [\"gender\", \"branch\", \"domain\", \"internship\", \"certifications\", \"placement_status\"]\n",
    "le = LabelEncoder()\n",
    "for col in cat_cols:\n",
    "    df[col] = le.fit_transform(df[col])\n",
    "\n",
    "# 5️⃣ Define Features and Target\n",
    "X = df.drop(columns=[\"placement_status\"])\n",
    "y = df[\"placement_status\"]"
   ]
  },
  {
   "cell_type": "code",
   "execution_count": 3,
   "id": "0ca41e19-8f42-4263-b378-321536c741d9",
   "metadata": {},
   "outputs": [],
   "source": [
    "# 6️⃣ Split into Train and Test Sets\n",
    "X_train, X_test, y_train, y_test = train_test_split(X, y, test_size=0.2, random_state=42)\n",
    "\n",
    "# 7️⃣ Feature Scaling\n",
    "scaler = StandardScaler()\n",
    "X_train = scaler.fit_transform(X_train)\n",
    "X_test = scaler.transform(X_test)\n",
    "\n",
    "# 8️⃣ Initialize Models\n",
    "models = {\n",
    "    \"Logistic Regression\": LogisticRegression(),\n",
    "    \"Decision Tree\": DecisionTreeClassifier(),\n",
    "    \"Random Forest\": RandomForestClassifier(),\n",
    "    \"SVM\": SVC(),\n",
    "    \"KNN\": KNeighborsClassifier(),\n",
    "    \"Naive Bayes\": GaussianNB()\n",
    "}"
   ]
  },
  {
   "cell_type": "code",
   "execution_count": 4,
   "id": "086e826e-b9a1-4f71-aef4-3b15a9d8d4c3",
   "metadata": {},
   "outputs": [
    {
     "name": "stdout",
     "output_type": "stream",
     "text": [
      "\n",
      "📊 Logistic Regression\n",
      "Accuracy: 55.0 %\n",
      "              precision    recall  f1-score   support\n",
      "\n",
      "           0       0.75      0.27      0.40        11\n",
      "           1       0.50      0.89      0.64         9\n",
      "\n",
      "    accuracy                           0.55        20\n",
      "   macro avg       0.62      0.58      0.52        20\n",
      "weighted avg       0.64      0.55      0.51        20\n",
      "\n",
      "\n",
      "📊 Decision Tree\n",
      "Accuracy: 55.0 %\n",
      "              precision    recall  f1-score   support\n",
      "\n",
      "           0       0.62      0.45      0.53        11\n",
      "           1       0.50      0.67      0.57         9\n",
      "\n",
      "    accuracy                           0.55        20\n",
      "   macro avg       0.56      0.56      0.55        20\n",
      "weighted avg       0.57      0.55      0.55        20\n",
      "\n",
      "\n",
      "📊 Random Forest\n",
      "Accuracy: 50.0 %\n",
      "              precision    recall  f1-score   support\n",
      "\n",
      "           0       1.00      0.09      0.17        11\n",
      "           1       0.47      1.00      0.64         9\n",
      "\n",
      "    accuracy                           0.50        20\n",
      "   macro avg       0.74      0.55      0.40        20\n",
      "weighted avg       0.76      0.50      0.38        20\n",
      "\n",
      "\n",
      "📊 SVM\n",
      "Accuracy: 45.0 %\n",
      "              precision    recall  f1-score   support\n",
      "\n",
      "           0       0.00      0.00      0.00        11\n",
      "           1       0.45      1.00      0.62         9\n",
      "\n",
      "    accuracy                           0.45        20\n",
      "   macro avg       0.23      0.50      0.31        20\n",
      "weighted avg       0.20      0.45      0.28        20\n",
      "\n",
      "\n",
      "📊 KNN\n",
      "Accuracy: 50.0 %\n",
      "              precision    recall  f1-score   support\n",
      "\n",
      "           0       1.00      0.09      0.17        11\n",
      "           1       0.47      1.00      0.64         9\n",
      "\n",
      "    accuracy                           0.50        20\n",
      "   macro avg       0.74      0.55      0.40        20\n",
      "weighted avg       0.76      0.50      0.38        20\n",
      "\n",
      "\n",
      "📊 Naive Bayes\n",
      "Accuracy: 50.0 %\n",
      "              precision    recall  f1-score   support\n",
      "\n",
      "           0       0.67      0.18      0.29        11\n",
      "           1       0.47      0.89      0.62         9\n",
      "\n",
      "    accuracy                           0.50        20\n",
      "   macro avg       0.57      0.54      0.45        20\n",
      "weighted avg       0.58      0.50      0.43        20\n",
      "\n"
     ]
    },
    {
     "name": "stderr",
     "output_type": "stream",
     "text": [
      "C:\\Users\\cheta\\AppData\\Roaming\\Python\\Python312\\site-packages\\sklearn\\metrics\\_classification.py:1471: UndefinedMetricWarning: Precision and F-score are ill-defined and being set to 0.0 in labels with no predicted samples. Use `zero_division` parameter to control this behavior.\n",
      "  _warn_prf(average, modifier, msg_start, len(result))\n",
      "C:\\Users\\cheta\\AppData\\Roaming\\Python\\Python312\\site-packages\\sklearn\\metrics\\_classification.py:1471: UndefinedMetricWarning: Precision and F-score are ill-defined and being set to 0.0 in labels with no predicted samples. Use `zero_division` parameter to control this behavior.\n",
      "  _warn_prf(average, modifier, msg_start, len(result))\n",
      "C:\\Users\\cheta\\AppData\\Roaming\\Python\\Python312\\site-packages\\sklearn\\metrics\\_classification.py:1471: UndefinedMetricWarning: Precision and F-score are ill-defined and being set to 0.0 in labels with no predicted samples. Use `zero_division` parameter to control this behavior.\n",
      "  _warn_prf(average, modifier, msg_start, len(result))\n"
     ]
    }
   ],
   "source": [
    "# 9️⃣ Train and Evaluate Models\n",
    "results = {}\n",
    "for name, model in models.items():\n",
    "    model.fit(X_train, y_train)\n",
    "    y_pred = model.predict(X_test)\n",
    "    acc = accuracy_score(y_test, y_pred)\n",
    "    results[name] = acc\n",
    "    print(f\"\\n📊 {name}\")\n",
    "    print(\"Accuracy:\", round(acc*100, 2), \"%\")\n",
    "    print(classification_report(y_test, y_pred))"
   ]
  },
  {
   "cell_type": "code",
   "execution_count": 5,
   "id": "984b2f08-b380-44ef-ac8f-c235c3d0a9b9",
   "metadata": {},
   "outputs": [
    {
     "name": "stdout",
     "output_type": "stream",
     "text": [
      "\n",
      "✅ Model Comparison:\n",
      "Logistic Regression: 55.0%\n",
      "Decision Tree: 55.0%\n",
      "Random Forest: 50.0%\n",
      "SVM: 45.0%\n",
      "KNN: 50.0%\n",
      "Naive Bayes: 50.0%\n",
      "\n",
      "🏆 Best Performing Model: Logistic Regression (55.0%)\n"
     ]
    }
   ],
   "source": [
    "# 🔟 Compare Model Accuracies\n",
    "print(\"\\n✅ Model Comparison:\")\n",
    "for name, acc in results.items():\n",
    "    print(f\"{name}: {round(acc*100, 2)}%\")\n",
    "\n",
    "# 🎯 Identify Best Model\n",
    "best_model = max(results, key=results.get)\n",
    "print(f\"\\n🏆 Best Performing Model: {best_model} ({round(results[best_model]*100, 2)}%)\")"
   ]
  }
 ],
 "metadata": {
  "kernelspec": {
   "display_name": "Python 3 (ipykernel)",
   "language": "python",
   "name": "python3"
  },
  "language_info": {
   "codemirror_mode": {
    "name": "ipython",
    "version": 3
   },
   "file_extension": ".py",
   "mimetype": "text/x-python",
   "name": "python",
   "nbconvert_exporter": "python",
   "pygments_lexer": "ipython3",
   "version": "3.12.1"
  },
  "widgets": {
   "application/vnd.jupyter.widget-state+json": {
    "state": {},
    "version_major": 2,
    "version_minor": 0
   }
  }
 },
 "nbformat": 4,
 "nbformat_minor": 5
}
